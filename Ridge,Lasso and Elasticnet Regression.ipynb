{
 "cells": [
  {
   "cell_type": "markdown",
   "id": "73ccf2fd",
   "metadata": {},
   "source": [
    "# Machine Learning Algorithms"
   ]
  },
  {
   "cell_type": "markdown",
   "id": "cb9add2b",
   "metadata": {},
   "source": [
    "# Ridge Regressor using sklearn"
   ]
  },
  {
   "cell_type": "code",
   "execution_count": 46,
   "id": "84c8de32",
   "metadata": {},
   "outputs": [],
   "source": [
    "#importing libraries\n",
    "from sklearn.linear_model import Ridge\n",
    "from sklearn.model_selection import train_test_split\n",
    "from sklearn.datasets import load_boston\n",
    "from sklearn.preprocessing import StandardScaler\n",
    "import seaborn as sns"
   ]
  },
  {
   "cell_type": "code",
   "execution_count": 47,
   "id": "e3e52ea0",
   "metadata": {},
   "outputs": [],
   "source": [
    "ridge = Ridge()"
   ]
  },
  {
   "cell_type": "code",
   "execution_count": 48,
   "id": "f8b91650",
   "metadata": {},
   "outputs": [
    {
     "name": "stderr",
     "output_type": "stream",
     "text": [
      "C:\\Users\\risha\\anaconda3\\lib\\site-packages\\sklearn\\utils\\deprecation.py:87: FutureWarning: Function load_boston is deprecated; `load_boston` is deprecated in 1.0 and will be removed in 1.2.\n",
      "\n",
      "    The Boston housing prices dataset has an ethical problem. You can refer to\n",
      "    the documentation of this function for further details.\n",
      "\n",
      "    The scikit-learn maintainers therefore strongly discourage the use of this\n",
      "    dataset unless the purpose of the code is to study and educate about\n",
      "    ethical issues in data science and machine learning.\n",
      "\n",
      "    In this special case, you can fetch the dataset from the original\n",
      "    source::\n",
      "\n",
      "        import pandas as pd\n",
      "        import numpy as np\n",
      "\n",
      "\n",
      "        data_url = \"http://lib.stat.cmu.edu/datasets/boston\"\n",
      "        raw_df = pd.read_csv(data_url, sep=\"\\s+\", skiprows=22, header=None)\n",
      "        data = np.hstack([raw_df.values[::2, :], raw_df.values[1::2, :2]])\n",
      "        target = raw_df.values[1::2, 2]\n",
      "\n",
      "    Alternative datasets include the California housing dataset (i.e.\n",
      "    :func:`~sklearn.datasets.fetch_california_housing`) and the Ames housing\n",
      "    dataset. You can load the datasets as follows::\n",
      "\n",
      "        from sklearn.datasets import fetch_california_housing\n",
      "        housing = fetch_california_housing()\n",
      "\n",
      "    for the California housing dataset and::\n",
      "\n",
      "        from sklearn.datasets import fetch_openml\n",
      "        housing = fetch_openml(name=\"house_prices\", as_frame=True)\n",
      "\n",
      "    for the Ames housing dataset.\n",
      "    \n",
      "  warnings.warn(msg, category=FutureWarning)\n"
     ]
    }
   ],
   "source": [
    "boston = load_boston()"
   ]
  },
  {
   "cell_type": "code",
   "execution_count": 49,
   "id": "c721a204",
   "metadata": {},
   "outputs": [],
   "source": [
    "x = boston.data[:,:13]\n",
    "y = boston.target"
   ]
  },
  {
   "cell_type": "code",
   "execution_count": 50,
   "id": "2b15fa10",
   "metadata": {},
   "outputs": [
    {
     "name": "stdout",
     "output_type": "stream",
     "text": [
      "Boston dataset keys : /n dict_keys(['data', 'target', 'feature_names', 'DESCR', 'filename', 'data_module'])\n",
      "/nBoston data : /n [[6.3200e-03 1.8000e+01 2.3100e+00 ... 1.5300e+01 3.9690e+02 4.9800e+00]\n",
      " [2.7310e-02 0.0000e+00 7.0700e+00 ... 1.7800e+01 3.9690e+02 9.1400e+00]\n",
      " [2.7290e-02 0.0000e+00 7.0700e+00 ... 1.7800e+01 3.9283e+02 4.0300e+00]\n",
      " ...\n",
      " [6.0760e-02 0.0000e+00 1.1930e+01 ... 2.1000e+01 3.9690e+02 5.6400e+00]\n",
      " [1.0959e-01 0.0000e+00 1.1930e+01 ... 2.1000e+01 3.9345e+02 6.4800e+00]\n",
      " [4.7410e-02 0.0000e+00 1.1930e+01 ... 2.1000e+01 3.9690e+02 7.8800e+00]]\n"
     ]
    }
   ],
   "source": [
    "print(\"Boston dataset keys : /n\",boston.keys())\n",
    "print(\"/nBoston data : /n\",boston.data)"
   ]
  },
  {
   "cell_type": "code",
   "execution_count": 51,
   "id": "3baa2b5a",
   "metadata": {},
   "outputs": [],
   "source": [
    "scaler = StandardScaler()\n",
    "scaled_x = scaler.fit_transform(x)"
   ]
  },
  {
   "cell_type": "code",
   "execution_count": 52,
   "id": "f40d2f77",
   "metadata": {},
   "outputs": [],
   "source": [
    "x_train,x_test,y_train,y_test = train_test_split(scaled_x,y,test_size = 0.3)"
   ]
  },
  {
   "cell_type": "code",
   "execution_count": 53,
   "id": "c3c0a615",
   "metadata": {},
   "outputs": [
    {
     "name": "stderr",
     "output_type": "stream",
     "text": [
      "C:\\Users\\risha\\anaconda3\\lib\\site-packages\\sklearn\\linear_model\\_base.py:148: FutureWarning: 'normalize' was deprecated in version 1.0 and will be removed in 1.2. Please leave the normalize parameter to its default value to silence this warning. The default behavior of this estimator is to not do any normalization. If normalization is needed please use sklearn.preprocessing.StandardScaler instead.\n",
      "  warnings.warn(\n"
     ]
    },
    {
     "data": {
      "text/plain": [
       "Ridge(alpha=0.5, normalize=False, random_state=42)"
      ]
     },
     "execution_count": 53,
     "metadata": {},
     "output_type": "execute_result"
    }
   ],
   "source": [
    "model = Ridge(alpha = 0.5,normalize = False,tol = 0.001,solver = 'auto',random_state = 42)\n",
    "model.fit(x_train,y_train)"
   ]
  },
  {
   "cell_type": "code",
   "execution_count": 54,
   "id": "69c9dc59",
   "metadata": {},
   "outputs": [],
   "source": [
    "y_pred = model.predict(x_test)\n"
   ]
  },
  {
   "cell_type": "code",
   "execution_count": 55,
   "id": "288bf17e",
   "metadata": {},
   "outputs": [
    {
     "name": "stdout",
     "output_type": "stream",
     "text": [
      "\n",
      "\n",
      "Model score : 0.6632542129494161\n"
     ]
    }
   ],
   "source": [
    "score = model.score(x_test,y_test)\n",
    "print(\"\\n\\nModel score :\", score)"
   ]
  },
  {
   "cell_type": "code",
   "execution_count": 56,
   "id": "220e70d9",
   "metadata": {},
   "outputs": [
    {
     "data": {
      "text/plain": [
       "Ridge()"
      ]
     },
     "execution_count": 56,
     "metadata": {},
     "output_type": "execute_result"
    }
   ],
   "source": [
    "ridge.fit(x_train,y_train)"
   ]
  },
  {
   "cell_type": "code",
   "execution_count": 57,
   "id": "e541a6bc",
   "metadata": {},
   "outputs": [
    {
     "name": "stdout",
     "output_type": "stream",
     "text": [
      "[-0.51368309  0.74344402  0.15347409  0.59079953 -1.80869269  3.22233185\n",
      " -0.28075603 -2.78307808  2.08372953 -1.9437831  -2.15299987  0.98589138\n",
      " -3.24599741]\n"
     ]
    }
   ],
   "source": [
    "print(ridge.coef_)"
   ]
  },
  {
   "cell_type": "code",
   "execution_count": 58,
   "id": "4be6ae2e",
   "metadata": {},
   "outputs": [
    {
     "name": "stdout",
     "output_type": "stream",
     "text": [
      "22.49772545040146\n"
     ]
    }
   ],
   "source": [
    "print(ridge.intercept_)"
   ]
  },
  {
   "cell_type": "code",
   "execution_count": 59,
   "id": "d3dda239",
   "metadata": {},
   "outputs": [],
   "source": [
    "ridge_pred = ridge.predict(x_test)"
   ]
  },
  {
   "cell_type": "code",
   "execution_count": 60,
   "id": "d22aed66",
   "metadata": {},
   "outputs": [
    {
     "data": {
      "text/plain": [
       "array([19.0981247 , 27.6344942 , 31.14322695, 24.5830556 , 29.22955933,\n",
       "       13.24550934, 25.90033154, 20.7405947 , 25.89017653, 29.7742264 ,\n",
       "       20.84820958, 33.03886675, 15.82812823, 23.43091684, 33.2427224 ,\n",
       "       17.90658426, 21.69469888, 10.58370807, 29.00567807, 30.11879823,\n",
       "       13.17250899, 31.24970689, 31.50842841, 25.22380257, 22.91502215,\n",
       "       22.40126397, 17.32940108, 21.23777394, 16.16471663, 21.90828522,\n",
       "       25.04184412, 18.77039692, 27.2396963 , 28.45684699, 30.70214267,\n",
       "       15.68290437, 13.3370669 , 26.73854745, 14.01587918, 15.34241977,\n",
       "       20.24486158, 31.17128118, 25.60582148, 22.74056261, 12.95926322,\n",
       "       32.64165961, 15.65195592, 27.69857064, 20.17104637, 20.83955362,\n",
       "       13.75182972, 17.18041749, 24.673402  , 12.78125438, 18.23663935,\n",
       "       15.2634284 , 32.13833371, 30.47031131, 20.37252317,  8.72333726,\n",
       "       27.49631647, 19.77690385, 19.35939286, 13.11836487, 29.24897749,\n",
       "       20.09545791, 25.62010442, 18.24515987, 22.11765023, 41.94822598,\n",
       "       44.54156315, 19.39830504, 20.08434451, 17.03747907, 11.06886531,\n",
       "       19.09132246, 11.36802015, 22.75079346, 33.24288374, 20.55288658,\n",
       "       36.70580505, 15.85932723, 16.6264183 , 35.42151658, 28.66110415,\n",
       "       22.39672255, 34.70490371, 19.2219293 ,  9.5346294 , 15.41805947,\n",
       "       19.11774825, 22.99155798, 19.75039589, 30.91227728, 24.65247448,\n",
       "       33.84062116, 36.67429383,  0.93029415, 33.13205969,  8.82602907,\n",
       "       20.14630221, 11.75554376,  9.30359795, 18.94983358, 23.71987643,\n",
       "       24.21672717, 25.64709548, 13.16256701, 16.6192244 , 28.66608496,\n",
       "       14.47593403, 43.19207105, 24.26016274, 21.88160323, 25.69863993,\n",
       "       22.89323712, 18.83111401,  6.89392772, 16.02878519, 20.67863331,\n",
       "       19.28101005, 25.40914139, 19.07743161, 22.17539862, 31.00270723,\n",
       "       14.89854506, 27.59320681, 20.20406484, 24.07141151, 18.04031986,\n",
       "       34.41444912, 19.40601646, 18.37165931, 16.91246305, 10.95781682,\n",
       "       26.09372136, 21.91276313, 20.03254045, 13.21202192, 23.59438654,\n",
       "       28.07558889, 16.08059351, 20.60798368, 13.8762665 , 32.91354845,\n",
       "       12.53290943, 18.05154339, 16.6216187 , 11.18543558, 19.69774398,\n",
       "       17.37089291, 23.31941337])"
      ]
     },
     "execution_count": 60,
     "metadata": {},
     "output_type": "execute_result"
    }
   ],
   "source": [
    "ridge_pred"
   ]
  },
  {
   "cell_type": "markdown",
   "id": "11723192",
   "metadata": {},
   "source": [
    "# Assumptions of Ridge Regression"
   ]
  },
  {
   "cell_type": "code",
   "execution_count": 61,
   "id": "f5a0d604",
   "metadata": {},
   "outputs": [
    {
     "data": {
      "image/png": "[encoded data removed]",
      "text/plain": [
       "<Figure size 432x288 with 1 Axes>"
      ]
     },
     "metadata": {
      "needs_background": "light"
     },
     "output_type": "display_data"
    }
   ],
   "source": [
    "plt.scatter(y_test,ridge_pred)\n",
    "plt.xlabel(\"Test Truth Data\")\n",
    "plt.ylabel(\"Test Predicted Data\")\n",
    "plt.show()"
   ]
  },
  {
   "cell_type": "code",
   "execution_count": 62,
   "id": "15fa9a30",
   "metadata": {},
   "outputs": [],
   "source": [
    "#residuals\n",
    "residuals = y_test - ridge_pred"
   ]
  },
  {
   "cell_type": "code",
   "execution_count": 63,
   "id": "f40f8e15",
   "metadata": {},
   "outputs": [
    {
     "data": {
      "text/plain": [
       "array([ 8.01875297e-01, -3.93449420e+00,  1.55677305e+00, -3.08305560e+00,\n",
       "       -6.29559334e-01,  5.54490660e-01, -1.80033154e+00,  9.59405301e-01,\n",
       "       -1.08901765e+01, -4.67422640e+00, -8.48209577e-01, -1.53886675e+00,\n",
       "        1.77187177e+00, -2.63091684e+00,  8.05727760e+00, -5.30658426e+00,\n",
       "        1.60530112e+00,  7.21629193e+00, -7.00567807e+00, -6.11879823e+00,\n",
       "        5.82749101e+00,  2.50293108e-01, -1.60842841e+00, -4.23802571e-01,\n",
       "       -2.91502215e+00, -2.60126397e+00, -2.42940108e+00, -3.77739402e-02,\n",
       "       -9.64716634e-01, -1.20828522e+00, -1.94184412e+00, -4.17039692e+00,\n",
       "       -2.03969630e+00, -5.65684699e+00,  2.19785733e+00, -8.29043708e-02,\n",
       "       -2.37066896e-01, -2.83854745e+00,  5.68412082e+00, -3.64241977e+00,\n",
       "       -4.64486158e+00,  3.52871882e+00,  8.94178524e-01,  2.59437387e-01,\n",
       "        2.64073678e+00, -4.14165961e+00, -7.15195592e+00, -4.89857064e+00,\n",
       "        1.62895363e+00,  6.04463769e-02,  4.44817028e+00,  2.71958251e+00,\n",
       "        3.26597998e-01, -3.28125438e+00, -2.13663935e+00, -1.16342840e+00,\n",
       "       -2.33833371e+00,  2.02968869e+00,  1.42747683e+00, -2.23337255e-01,\n",
       "        8.70368353e+00,  2.42309615e+00, -4.05939286e+00,  7.81635134e-01,\n",
       "       -6.24897749e+00,  7.00454209e+00,  2.47989558e+00,  1.54840128e-01,\n",
       "       -1.51765023e+00,  6.55177402e+00,  5.45843685e+00, -4.98305044e-01,\n",
       "       -8.84344508e-01,  1.56252093e+00,  9.31134686e-01, -1.29132246e+00,\n",
       "       -5.68020152e-01, -2.35079346e+00, -1.24288374e+00, -5.28865813e-02,\n",
       "       -7.05805047e-01, -2.59327229e-01, -3.52641830e+00, -3.21516576e-01,\n",
       "        2.53889585e+00, -4.99672255e+00,  1.95096287e-01, -2.52192930e+00,\n",
       "       -1.23462940e+00,  1.78194053e+00, -1.11774825e+00,  1.70844202e+00,\n",
       "       -1.35039589e+00, -1.51227728e+00, -1.95247448e+00,  1.05937884e+00,\n",
       "        2.02570617e+00,  1.69697059e+01,  1.68679403e+01, -1.26029067e-01,\n",
       "       -4.63022102e-02,  3.44445624e+00,  3.96402046e-01, -2.14983358e+00,\n",
       "        2.62801236e+01,  2.57832728e+01, -2.44709548e+00,  2.43743299e+00,\n",
       "        4.18077560e+00, -4.56608496e+00, -3.57593403e+00,  6.80792895e+00,\n",
       "       -2.06016274e+00,  3.11839677e+00, -3.49863993e+00, -1.89323712e+00,\n",
       "       -7.93111401e+00,  3.50607228e+00, -2.62878519e+00, -1.07863331e+00,\n",
       "       -4.08101005e+00,  4.39085861e+00,  2.25683923e-02, -2.37539862e+00,\n",
       "       -3.10270723e+00,  8.01454939e-01, -5.59320681e+00, -3.10406484e+00,\n",
       "       -4.97141151e+00,  4.45968014e+00, -1.31444912e+00,  9.93983538e-01,\n",
       "       -7.97165931e+00,  2.58753695e+00,  1.65421832e+01, -4.09372136e+00,\n",
       "       -2.12763130e-01, -7.32540451e-01, -1.51202192e+00, -1.89438654e+00,\n",
       "       -3.07558889e+00,  4.51940649e+00, -1.30798368e+00,  6.23733498e-01,\n",
       "        2.86451547e-01, -2.32909430e-01,  1.94845661e+00,  1.17838130e+00,\n",
       "        5.11456442e+00, -5.89774398e+00, -2.70892907e-01, -4.11941337e+00])"
      ]
     },
     "execution_count": 63,
     "metadata": {},
     "output_type": "execute_result"
    }
   ],
   "source": [
    "residuals"
   ]
  },
  {
   "cell_type": "code",
   "execution_count": 64,
   "id": "fcbfd90e",
   "metadata": {},
   "outputs": [
    {
     "data": {
      "text/plain": [
       "<seaborn.axisgrid.FacetGrid at 0x1e0d53a7700>"
      ]
     },
     "execution_count": 64,
     "metadata": {},
     "output_type": "execute_result"
    },
    {
     "data": {
      "image/png": "[encoded data removed]",
      "text/plain": [
       "<Figure size 360x360 with 1 Axes>"
      ]
     },
     "metadata": {
      "needs_background": "light"
     },
     "output_type": "display_data"
    }
   ],
   "source": [
    "sns.displot(residuals,kind = \"kde\")"
   ]
  },
  {
   "cell_type": "code",
   "execution_count": 65,
   "id": "87ade486",
   "metadata": {},
   "outputs": [
    {
     "data": {
      "text/plain": [
       "<matplotlib.collections.PathCollection at 0x1e0d637f490>"
      ]
     },
     "execution_count": 65,
     "metadata": {},
     "output_type": "execute_result"
    },
    {
     "data": {
      "image/png": "[encoded data removed]",
      "text/plain": [
       "<Figure size 432x288 with 1 Axes>"
      ]
     },
     "metadata": {
      "needs_background": "light"
     },
     "output_type": "display_data"
    }
   ],
   "source": [
    "#Uniforn distribution\n",
    "plt.scatter(ridge_pred,residuals)"
   ]
  },
  {
   "cell_type": "code",
   "execution_count": 67,
   "id": "368875bb",
   "metadata": {},
   "outputs": [
    {
     "name": "stdout",
     "output_type": "stream",
     "text": [
      "25.877021617178265\n",
      "3.2393994952600056\n",
      "5.086946197590286\n"
     ]
    }
   ],
   "source": [
    "#Performance metrics\n",
    "from sklearn.metrics import mean_squared_error\n",
    "from sklearn.metrics import mean_absolute_error\n",
    "print(mean_squared_error(y_test,ridge_pred))\n",
    "print(mean_absolute_error(y_test,ridge_pred))\n",
    "print(np.sqrt(mean_squared_error(y_test,ridge_pred)))"
   ]
  },
  {
   "cell_type": "code",
   "execution_count": 68,
   "id": "211a3158",
   "metadata": {},
   "outputs": [
    {
     "name": "stdout",
     "output_type": "stream",
     "text": [
      "0.6629815130287633\n"
     ]
    }
   ],
   "source": [
    "# R square and adjusted R square\n",
    "from sklearn.metrics import r2_score\n",
    "score = r2_score(y_test,ridge_pred)\n",
    "print(score)"
   ]
  },
  {
   "cell_type": "code",
   "execution_count": 69,
   "id": "a7a22bf2",
   "metadata": {},
   "outputs": [
    {
     "data": {
      "text/plain": [
       "0.6312333946908932"
      ]
     },
     "execution_count": 69,
     "metadata": {},
     "output_type": "execute_result"
    }
   ],
   "source": [
    "# Adjusted R square\n",
    "1 - (1-score)*(len(y_test)-1)/(len(y_test)-x_test.shape[1]-1)"
   ]
  },
  {
   "cell_type": "markdown",
   "id": "83569992",
   "metadata": {},
   "source": [
    "# Lasso Regression using sklearn"
   ]
  },
  {
   "cell_type": "code",
   "execution_count": 20,
   "id": "0571f897",
   "metadata": {},
   "outputs": [],
   "source": [
    "#importing libraries\n",
    "import numpy as np\n",
    "import pandas as pd\n",
    "import matplotlib.pyplot as plt\n",
    "from sklearn.model_selection import train_test_split\n",
    "from sklearn.linear_model import Lasso"
   ]
  },
  {
   "cell_type": "code",
   "execution_count": 70,
   "id": "0577a93d",
   "metadata": {},
   "outputs": [],
   "source": [
    "lasso_model = Lasso()"
   ]
  },
  {
   "cell_type": "code",
   "execution_count": 71,
   "id": "b02b7a3b",
   "metadata": {},
   "outputs": [
    {
     "data": {
      "text/plain": [
       "Lasso()"
      ]
     },
     "execution_count": 71,
     "metadata": {},
     "output_type": "execute_result"
    }
   ],
   "source": [
    "lasso_model"
   ]
  },
  {
   "cell_type": "code",
   "execution_count": 72,
   "id": "56866c8e",
   "metadata": {},
   "outputs": [
    {
     "data": {
      "text/plain": [
       "Lasso()"
      ]
     },
     "execution_count": 72,
     "metadata": {},
     "output_type": "execute_result"
    }
   ],
   "source": [
    "lasso_model.fit(x_train,y_train)"
   ]
  },
  {
   "cell_type": "code",
   "execution_count": 73,
   "id": "b9772faa",
   "metadata": {},
   "outputs": [
    {
     "name": "stdout",
     "output_type": "stream",
     "text": [
      "[-0.          0.         -0.          0.         -0.          3.06969136\n",
      " -0.         -0.         -0.         -0.10030256 -1.49235989  0.1438332\n",
      " -3.20197059]\n"
     ]
    }
   ],
   "source": [
    "#Coefficient and intercept\n",
    "print(lasso_model.coef_)"
   ]
  },
  {
   "cell_type": "code",
   "execution_count": 74,
   "id": "2068a0c3",
   "metadata": {},
   "outputs": [
    {
     "name": "stdout",
     "output_type": "stream",
     "text": [
      "22.582846777272998\n"
     ]
    }
   ],
   "source": [
    "print(lasso_model.intercept_)"
   ]
  },
  {
   "cell_type": "code",
   "execution_count": 75,
   "id": "d6ff7d36",
   "metadata": {},
   "outputs": [],
   "source": [
    "#Prediction for test data\n",
    "lasso_model_pred = lasso_model.predict(x_test)"
   ]
  },
  {
   "cell_type": "code",
   "execution_count": 76,
   "id": "e0a208ea",
   "metadata": {},
   "outputs": [
    {
     "data": {
      "text/plain": [
       "array([20.85561678, 27.77968418, 32.15369307, 20.32036075, 28.99687926,\n",
       "       17.41283239, 25.06571655, 20.42092524, 25.43313746, 26.33358944,\n",
       "       20.28146967, 31.67438954, 19.25370901, 22.90509459, 31.68615057,\n",
       "       19.42902018, 23.84124717, 13.34138113, 27.06766001, 29.60426473,\n",
       "       17.2247433 , 28.5695628 , 29.07401646, 26.95543467, 22.72898848,\n",
       "       21.97147288, 19.10549315, 20.86136438, 17.60406882, 24.30092632,\n",
       "       26.89301016, 18.41283197, 25.18305262, 27.92034606, 31.03513615,\n",
       "       17.73281887, 18.76104539, 26.24519531, 14.42118055, 19.35697328,\n",
       "       23.11123077, 30.99906804, 25.37922936, 21.96122069, 16.12622587,\n",
       "       28.93492929, 15.67018224, 24.3092829 , 19.99940446, 22.36343147,\n",
       "       19.56998503, 18.22882842, 23.5994402 , 16.04713873, 19.25225017,\n",
       "       19.33635917, 29.69574631, 27.57393455, 19.90534392, 11.27690562,\n",
       "       24.04943971, 20.98555231, 19.82989604, 16.0738852 , 25.49122995,\n",
       "       21.54195108, 24.47154232, 19.2330583 , 21.85485538, 36.16882951,\n",
       "       40.4468383 , 21.71127925, 21.51449379, 23.17537235, 11.42436322,\n",
       "       18.72080119, 14.16051563, 23.08643185, 29.74997381, 18.51933443,\n",
       "       33.24260437, 20.21619473, 16.75235221, 31.02273865, 29.43274568,\n",
       "       22.48680562, 32.0961707 , 20.65605409, 13.70769556, 20.69272291,\n",
       "       20.14710679, 21.94307258, 21.79078759, 28.41396658, 23.80936044,\n",
       "       30.86851614, 34.63240385,  3.71634342, 28.83039271, 13.90524248,\n",
       "       22.47179421, 15.26897628,  9.98151117, 18.22174348, 22.34210905,\n",
       "       21.11375508, 23.97179188, 15.49036218, 18.33420144, 27.07656104,\n",
       "       19.49345718, 37.37428728, 24.91707004, 23.93227396, 23.88423848,\n",
       "       22.05165843, 18.6453929 , 10.29759145, 20.54586611, 21.83844084,\n",
       "       20.5644195 , 24.74072082, 19.49173891, 24.64616507, 27.30980537,\n",
       "       12.78018513, 27.60620079, 21.34677316, 23.67393137, 17.9924152 ,\n",
       "       29.50254994, 21.45481536, 22.23226403, 16.31397098, 11.79472613,\n",
       "       25.96395754, 21.48601571, 19.97133529, 15.49884798, 18.95190259,\n",
       "       28.18628282, 21.86632907, 20.22524548, 15.64089817, 30.88797547,\n",
       "       12.6008624 , 19.47974941, 17.54467806, 12.72217165, 19.7586036 ,\n",
       "       18.72043506, 22.98387349])"
      ]
     },
     "execution_count": 76,
     "metadata": {},
     "output_type": "execute_result"
    }
   ],
   "source": [
    "lasso_model_pred"
   ]
  },
  {
   "cell_type": "markdown",
   "id": "90a15529",
   "metadata": {},
   "source": [
    "# Assumptions of Lasso Regression"
   ]
  },
  {
   "cell_type": "code",
   "execution_count": 77,
   "id": "3ea9c2d1",
   "metadata": {},
   "outputs": [
    {
     "data": {
      "text/plain": [
       "Text(0, 0.5, 'Test predicted Data')"
      ]
     },
     "execution_count": 77,
     "metadata": {},
     "output_type": "execute_result"
    },
    {
     "data": {
      "image/png": "[encoded data removed]",
      "text/plain": [
       "<Figure size 432x288 with 1 Axes>"
      ]
     },
     "metadata": {
      "needs_background": "light"
     },
     "output_type": "display_data"
    }
   ],
   "source": [
    "plt.scatter(y_test,lasso_model_pred)\n",
    "plt.xlabel(\"Test Truth Data\")\n",
    "plt.ylabel(\"Test predicted Data\")"
   ]
  },
  {
   "cell_type": "code",
   "execution_count": 80,
   "id": "b2d8ab76",
   "metadata": {},
   "outputs": [],
   "source": [
    "#Residuals\n",
    "residuals1 = y_test-lasso_model_pred"
   ]
  },
  {
   "cell_type": "code",
   "execution_count": 81,
   "id": "10207717",
   "metadata": {},
   "outputs": [
    {
     "data": {
      "text/plain": [
       "array([-9.55616782e-01, -4.07968418e+00,  5.46306928e-01,  1.17963925e+00,\n",
       "       -3.96879264e-01, -3.61283239e+00, -9.65716553e-01,  1.27907476e+00,\n",
       "       -1.04331375e+01, -1.23358944e+00, -2.81469667e-01, -1.74389539e-01,\n",
       "       -1.65370901e+00, -2.10509459e+00,  9.61384943e+00, -6.82902018e+00,\n",
       "       -5.41247172e-01,  4.45861887e+00, -5.06766001e+00, -5.60426473e+00,\n",
       "        1.77525670e+00,  2.93043720e+00,  8.25983538e-01, -2.15543467e+00,\n",
       "       -2.72898848e+00, -2.17147288e+00, -4.20549315e+00,  3.38635624e-01,\n",
       "       -2.40406882e+00, -3.60092632e+00, -3.79301016e+00, -3.81283197e+00,\n",
       "        1.69473818e-02, -5.12034606e+00,  1.86486385e+00, -2.13281887e+00,\n",
       "       -5.66104539e+00, -2.34519531e+00,  5.27881945e+00, -7.65697328e+00,\n",
       "       -7.51123077e+00,  3.70093196e+00,  1.12077064e+00,  1.03877931e+00,\n",
       "       -5.26225869e-01, -4.34929285e-01, -7.17018224e+00, -1.50928290e+00,\n",
       "        1.80059554e+00, -1.46343147e+00, -1.36998503e+00,  1.67117158e+00,\n",
       "        1.40055980e+00, -6.54713873e+00, -3.15225017e+00, -5.23635917e+00,\n",
       "        1.04253691e-01,  4.92606545e+00,  1.89465608e+00, -2.77690562e+00,\n",
       "        1.21505603e+01,  1.21444769e+00, -4.52989604e+00, -2.17388520e+00,\n",
       "       -2.49122995e+00,  5.55804892e+00,  3.62845768e+00, -8.33058300e-01,\n",
       "       -1.25485538e+00,  1.23311705e+01,  9.55316170e+00, -2.81127925e+00,\n",
       "       -2.31449379e+00, -4.57537235e+00,  5.75636777e-01, -9.20801193e-01,\n",
       "       -3.36051563e+00, -2.68643185e+00,  2.25002619e+00,  1.98066557e+00,\n",
       "        2.75739563e+00, -4.61619473e+00, -3.65235221e+00,  4.07726135e+00,\n",
       "        1.76725432e+00, -5.08680562e+00,  2.80382930e+00, -3.95605409e+00,\n",
       "       -5.40769556e+00, -3.49272291e+00, -2.14710679e+00,  2.75692742e+00,\n",
       "       -3.39078759e+00,  9.86033416e-01, -1.10936044e+00,  4.03148386e+00,\n",
       "        4.06759615e+00,  1.41836566e+01,  2.11696073e+01, -5.20524248e+00,\n",
       "       -2.37179421e+00, -6.89762804e-02, -2.81511174e-01, -1.42174348e+00,\n",
       "        2.76578910e+01,  2.88862449e+01, -7.71791882e-01,  1.09637817e-01,\n",
       "        2.46579856e+00, -2.97656104e+00, -8.59345718e+00,  1.26257127e+01,\n",
       "       -2.71707004e+00,  1.06772604e+00, -1.68423848e+00, -1.05165843e+00,\n",
       "       -7.74539290e+00,  1.02408550e-01, -7.14586611e+00, -2.23844084e+00,\n",
       "       -5.36441950e+00,  5.05927918e+00, -3.91738912e-01, -4.84616507e+00,\n",
       "        5.90194629e-01,  2.91981487e+00, -5.60620079e+00, -4.24677316e+00,\n",
       "       -4.57393137e+00,  4.50758480e+00,  3.59745006e+00, -1.05481536e+00,\n",
       "       -1.18322640e+01,  3.18602902e+00,  1.57052739e+01, -3.96395754e+00,\n",
       "        2.13984291e-01, -6.71335294e-01, -3.79884798e+00,  2.74809741e+00,\n",
       "       -3.18628282e+00, -1.26632907e+00, -9.25245480e-01, -1.14089817e+00,\n",
       "        2.31202453e+00, -3.00862400e-01,  5.20250592e-01,  2.55321942e-01,\n",
       "        3.57782835e+00, -5.95860360e+00, -1.62043506e+00, -3.78387349e+00])"
      ]
     },
     "execution_count": 81,
     "metadata": {},
     "output_type": "execute_result"
    }
   ],
   "source": [
    "residuals1"
   ]
  },
  {
   "cell_type": "code",
   "execution_count": 82,
   "id": "b8312abd",
   "metadata": {},
   "outputs": [
    {
     "data": {
      "text/plain": [
       "<seaborn.axisgrid.FacetGrid at 0x1e0d73a6520>"
      ]
     },
     "execution_count": 82,
     "metadata": {},
     "output_type": "execute_result"
    },
    {
     "data": {
      "image/png": "[encoded data removed]",
      "text/plain": [
       "<Figure size 360x360 with 1 Axes>"
      ]
     },
     "metadata": {
      "needs_background": "light"
     },
     "output_type": "display_data"
    }
   ],
   "source": [
    "sns.displot(residuals1,kind=\"kde\")"
   ]
  },
  {
   "cell_type": "code",
   "execution_count": 83,
   "id": "0afba891",
   "metadata": {},
   "outputs": [
    {
     "data": {
      "text/plain": [
       "<matplotlib.collections.PathCollection at 0x1e0d7481610>"
      ]
     },
     "execution_count": 83,
     "metadata": {},
     "output_type": "execute_result"
    },
    {
     "data": {
      "image/png": "[encoded data removed]",
      "text/plain": [
       "<Figure size 432x288 with 1 Axes>"
      ]
     },
     "metadata": {
      "needs_background": "light"
     },
     "output_type": "display_data"
    }
   ],
   "source": [
    "#Uniform Distribution\n",
    "plt.scatter(lasso_model_pred,residuals1)"
   ]
  },
  {
   "cell_type": "code",
   "execution_count": 85,
   "id": "5791c390",
   "metadata": {},
   "outputs": [
    {
     "name": "stdout",
     "output_type": "stream",
     "text": [
      "32.851813769434\n",
      "3.768134544938352\n",
      "5.731650178564111\n"
     ]
    }
   ],
   "source": [
    "#Performance metrics\n",
    "from sklearn.metrics import mean_squared_error\n",
    "from sklearn.metrics import mean_absolute_error\n",
    "print(mean_squared_error(y_test,lasso_model_pred))\n",
    "print(mean_absolute_error(y_test,lasso_model_pred))\n",
    "print(np.sqrt(mean_squared_error(y_test,lasso_model_pred)))"
   ]
  },
  {
   "cell_type": "code",
   "execution_count": 86,
   "id": "23189b35",
   "metadata": {},
   "outputs": [
    {
     "name": "stdout",
     "output_type": "stream",
     "text": [
      "0.5721428557494559\n"
     ]
    }
   ],
   "source": [
    "# R square and Adjusted R square\n",
    "from sklearn.metrics import r2_score\n",
    "score = r2_score(y_test,lasso_model_pred)\n",
    "print(score)"
   ]
  },
  {
   "cell_type": "code",
   "execution_count": 87,
   "id": "d092454a",
   "metadata": {},
   "outputs": [
    {
     "data": {
      "text/plain": [
       "0.5318374725954191"
      ]
     },
     "execution_count": 87,
     "metadata": {},
     "output_type": "execute_result"
    }
   ],
   "source": [
    "#Adjusted R square\n",
    "1 - (1-score)*(len(y_test)-1)/(len(y_test)-x_test.shape[1]-1)"
   ]
  },
  {
   "cell_type": "markdown",
   "id": "f86ceb05",
   "metadata": {},
   "source": [
    "# Elasticnet Regression"
   ]
  },
  {
   "cell_type": "code",
   "execution_count": 88,
   "id": "8f74bcd9",
   "metadata": {},
   "outputs": [],
   "source": [
    "from sklearn.linear_model import ElasticNet"
   ]
  },
  {
   "cell_type": "code",
   "execution_count": 89,
   "id": "04365b34",
   "metadata": {},
   "outputs": [],
   "source": [
    "elasticnet = ElasticNet()"
   ]
  },
  {
   "cell_type": "code",
   "execution_count": 90,
   "id": "7e369db0",
   "metadata": {},
   "outputs": [
    {
     "data": {
      "text/plain": [
       "ElasticNet()"
      ]
     },
     "execution_count": 90,
     "metadata": {},
     "output_type": "execute_result"
    }
   ],
   "source": [
    "elasticnet"
   ]
  },
  {
   "cell_type": "code",
   "execution_count": 91,
   "id": "af0651d6",
   "metadata": {},
   "outputs": [
    {
     "data": {
      "text/plain": [
       "ElasticNet()"
      ]
     },
     "execution_count": 91,
     "metadata": {},
     "output_type": "execute_result"
    }
   ],
   "source": [
    "elasticnet.fit(x_train,y_train)"
   ]
  },
  {
   "cell_type": "code",
   "execution_count": 93,
   "id": "25499959",
   "metadata": {},
   "outputs": [
    {
     "name": "stdout",
     "output_type": "stream",
     "text": [
      "Coefficient: [-0.22733042  0.01551377 -0.28428427  0.35871655 -0.18986068  2.57018114\n",
      " -0.         -0.         -0.         -0.48960153 -1.38542393  0.40109191\n",
      " -2.27496797]\n",
      "Intercept: 22.556227293908375\n"
     ]
    }
   ],
   "source": [
    "#Coefficient and Intercept\n",
    "print(\"Coefficient:\",elasticnet.coef_)\n",
    "print(\"Intercept:\",elasticnet.intercept_)"
   ]
  },
  {
   "cell_type": "code",
   "execution_count": 94,
   "id": "87f7a3db",
   "metadata": {},
   "outputs": [],
   "source": [
    "#Prediction\n",
    "elasticnet_pred = elasticnet.predict(x_test)"
   ]
  },
  {
   "cell_type": "code",
   "execution_count": 95,
   "id": "4a27a00c",
   "metadata": {},
   "outputs": [
    {
     "data": {
      "text/plain": [
       "array([21.2011997 , 27.38766862, 31.36114625, 22.82765896, 28.193059  ,\n",
       "       17.83086623, 24.53880897, 20.93509792, 23.37258487, 27.60065914,\n",
       "       21.63095645, 30.39018497, 20.37795202, 22.90366257, 29.5139188 ,\n",
       "       18.63344052, 24.02469479, 15.01927401, 27.01185931, 28.98649358,\n",
       "       16.00249634, 27.71221829, 28.5140848 , 26.33327735, 22.81164263,\n",
       "       22.19664778, 18.31861337, 21.242821  , 19.04997219, 24.394779  ,\n",
       "       26.63204968, 18.04444638, 25.27052907, 26.98794785, 30.06062711,\n",
       "       19.02490739, 18.03503353, 26.18278433, 16.3170368 , 17.55368786,\n",
       "       22.99660856, 29.96392347, 24.7895241 , 20.90464157, 16.28921996,\n",
       "       28.34928313, 15.83506263, 24.80589936, 19.3111154 , 22.84518383,\n",
       "       20.46569146, 17.64882848, 23.76250233, 15.34344007, 18.69429641,\n",
       "       17.7942541 , 28.89007082, 27.47873845, 20.39232387, 11.48965621,\n",
       "       24.74312196, 21.81146862, 20.93345315, 17.3657256 , 26.72504645,\n",
       "       22.79762608, 24.4650283 , 18.61262516, 21.95918889, 34.84983667,\n",
       "       38.00985166, 22.79071132, 20.95655737, 23.54423888, 12.36495059,\n",
       "       19.46268831, 14.10893987, 23.27792166, 29.09130201, 19.35284867,\n",
       "       32.10875291, 19.53828666, 16.58079679, 30.49420914, 28.52313531,\n",
       "       22.15298495, 30.99150259, 19.37062416, 13.06657469, 21.56618847,\n",
       "       19.97655461, 22.54634399, 22.20311392, 27.87000008, 23.3905898 ,\n",
       "       29.97894536, 33.14459446,  5.39035689, 27.43080986, 13.27227596,\n",
       "       23.56181668, 15.23417102, 11.29673171, 18.92636038, 20.80753261,\n",
       "       21.06439759, 24.42957201, 16.7865287 , 17.45337759, 27.16787038,\n",
       "       16.80671198, 35.79975055, 25.32863274, 21.96191814, 24.34755461,\n",
       "       22.57305732, 18.2229283 , 10.44102724, 18.55997603, 22.50258432,\n",
       "       19.71813356, 23.11248273, 18.9851521 , 24.63486676, 27.06653602,\n",
       "       15.01288495, 27.75353482, 22.38674267, 23.15292749, 19.54234087,\n",
       "       30.20678164, 21.69482071, 19.07198479, 17.82356333, 11.78510472,\n",
       "       25.23937063, 21.70921842, 20.58397824, 14.48523053, 22.12234487,\n",
       "       27.87473466, 22.22475546, 20.77360688, 17.47145975, 30.12352735,\n",
       "       13.52097173, 18.72960588, 17.96650694, 12.41771672, 18.97385892,\n",
       "       18.21286004, 22.90408117])"
      ]
     },
     "execution_count": 95,
     "metadata": {},
     "output_type": "execute_result"
    }
   ],
   "source": [
    "elasticnet_pred"
   ]
  },
  {
   "cell_type": "markdown",
   "id": "48b3c247",
   "metadata": {},
   "source": [
    "# Assumptions of Elasticnet regression"
   ]
  },
  {
   "cell_type": "code",
   "execution_count": 97,
   "id": "78dcb358",
   "metadata": {},
   "outputs": [
    {
     "data": {
      "text/plain": [
       "Text(0, 0.5, 'test Predicted data')"
      ]
     },
     "execution_count": 97,
     "metadata": {},
     "output_type": "execute_result"
    },
    {
     "data": {
      "image/png": "[encoded data removed]",
      "text/plain": [
       "<Figure size 432x288 with 1 Axes>"
      ]
     },
     "metadata": {
      "needs_background": "light"
     },
     "output_type": "display_data"
    }
   ],
   "source": [
    "plt.scatter(y_test,elasticnet_pred)\n",
    "plt.xlabel(\"Test Truth data\")\n",
    "plt.ylabel(\"test Predicted data\")"
   ]
  },
  {
   "cell_type": "code",
   "execution_count": 98,
   "id": "813b8a77",
   "metadata": {},
   "outputs": [],
   "source": [
    "#Residuals\n",
    "residuals = y_test-elasticnet_pred"
   ]
  },
  {
   "cell_type": "code",
   "execution_count": 99,
   "id": "eb1a6dcb",
   "metadata": {},
   "outputs": [
    {
     "data": {
      "text/plain": [
       "array([-1.30119970e+00, -3.68766862e+00,  1.33885375e+00, -1.32765896e+00,\n",
       "        4.06941003e-01, -4.03086623e+00, -4.38808969e-01,  7.64902082e-01,\n",
       "       -8.37258487e+00, -2.50065914e+00, -1.63095645e+00,  1.10981503e+00,\n",
       "       -2.77795202e+00, -2.10366257e+00,  1.17860812e+01, -6.03344052e+00,\n",
       "       -7.24694795e-01,  2.78072599e+00, -5.01185931e+00, -4.98649358e+00,\n",
       "        2.99750366e+00,  3.78778171e+00,  1.38591520e+00, -1.53327735e+00,\n",
       "       -2.81164263e+00, -2.39664778e+00, -3.41861337e+00, -4.28209966e-02,\n",
       "       -3.84997219e+00, -3.69477900e+00, -3.53204968e+00, -3.44444638e+00,\n",
       "       -7.05290697e-02, -4.18794785e+00,  2.83937289e+00, -3.42490739e+00,\n",
       "       -4.93503353e+00, -2.28278433e+00,  3.38296320e+00, -5.85368786e+00,\n",
       "       -7.39660856e+00,  4.73607653e+00,  1.71047590e+00,  2.09535843e+00,\n",
       "       -6.89219961e-01,  1.50716874e-01, -7.33506263e+00, -2.00589936e+00,\n",
       "        2.48888460e+00, -1.94518383e+00, -2.26569146e+00,  2.25117152e+00,\n",
       "        1.23749767e+00, -5.84344007e+00, -2.59429641e+00, -3.69425410e+00,\n",
       "        9.09929179e-01,  5.02126155e+00,  1.40767613e+00, -2.98965621e+00,\n",
       "        1.14568780e+01,  3.88531375e-01, -5.63345315e+00, -3.46572560e+00,\n",
       "       -3.72504645e+00,  4.30237392e+00,  3.63497170e+00, -2.12625163e-01,\n",
       "       -1.35918889e+00,  1.36501633e+01,  1.19901483e+01, -3.89071132e+00,\n",
       "       -1.75655737e+00, -4.94423888e+00, -3.64950587e-01, -1.66268831e+00,\n",
       "       -3.30893987e+00, -2.87792166e+00,  2.90869799e+00,  1.14715133e+00,\n",
       "        3.89124709e+00, -3.93828666e+00, -3.48079679e+00,  4.60579086e+00,\n",
       "        2.67686469e+00, -4.75298495e+00,  3.90849741e+00, -2.67062416e+00,\n",
       "       -4.76657469e+00, -4.36618847e+00, -1.97655461e+00,  2.15365601e+00,\n",
       "       -3.80311392e+00,  1.52999992e+00, -6.90589800e-01,  4.92105464e+00,\n",
       "        5.55540554e+00,  1.25096431e+01,  2.25691901e+01, -4.57227596e+00,\n",
       "       -3.46181668e+00, -3.41710240e-02, -1.59673171e+00, -2.12636038e+00,\n",
       "        2.91924674e+01,  2.89356024e+01, -1.22957201e+00, -1.18652870e+00,\n",
       "        3.34662241e+00, -3.06787038e+00, -5.90671198e+00,  1.42002495e+01,\n",
       "       -3.12863274e+00,  3.03808186e+00, -2.14755461e+00, -1.57305732e+00,\n",
       "       -7.32292830e+00, -4.10272408e-02, -5.15997603e+00, -2.90258432e+00,\n",
       "       -4.51813356e+00,  6.68751727e+00,  1.14847898e-01, -4.83486676e+00,\n",
       "        8.33463984e-01,  6.87115052e-01, -5.75353482e+00, -5.28674267e+00,\n",
       "       -4.05292749e+00,  2.95765913e+00,  2.89321836e+00, -1.29482071e+00,\n",
       "       -8.67198479e+00,  1.67643667e+00,  1.57148953e+01, -3.23937063e+00,\n",
       "       -9.21841760e-03, -1.28397824e+00, -2.78523053e+00, -4.22344875e-01,\n",
       "       -2.87473466e+00, -1.62475546e+00, -1.47360688e+00, -2.97145975e+00,\n",
       "        3.07647265e+00, -1.22097173e+00,  1.27039412e+00, -1.66506941e-01,\n",
       "        3.88228328e+00, -5.17385892e+00, -1.11286004e+00, -3.70408117e+00])"
      ]
     },
     "execution_count": 99,
     "metadata": {},
     "output_type": "execute_result"
    }
   ],
   "source": [
    "residuals"
   ]
  },
  {
   "cell_type": "code",
   "execution_count": 100,
   "id": "d68fc8c8",
   "metadata": {},
   "outputs": [
    {
     "data": {
      "text/plain": [
       "<seaborn.axisgrid.FacetGrid at 0x1e0d63ae970>"
      ]
     },
     "execution_count": 100,
     "metadata": {},
     "output_type": "execute_result"
    },
    {
     "data": {
      "image/png": "[encoded data removed]",
      "text/plain": [
       "<Figure size 360x360 with 1 Axes>"
      ]
     },
     "metadata": {
      "needs_background": "light"
     },
     "output_type": "display_data"
    }
   ],
   "source": [
    "sns.displot(residuals,kind=\"kde\")"
   ]
  },
  {
   "cell_type": "code",
   "execution_count": 101,
   "id": "45188b9b",
   "metadata": {},
   "outputs": [
    {
     "data": {
      "text/plain": [
       "<matplotlib.collections.PathCollection at 0x1e0d7643ca0>"
      ]
     },
     "execution_count": 101,
     "metadata": {},
     "output_type": "execute_result"
    },
    {
     "data": {
      "image/png": "[encoded data removed]",
      "text/plain": [
       "<Figure size 432x288 with 1 Axes>"
      ]
     },
     "metadata": {
      "needs_background": "light"
     },
     "output_type": "display_data"
    }
   ],
   "source": [
    "#Uniform distribution\n",
    "plt.scatter(elasticnet_pred,residuals)"
   ]
  },
  {
   "cell_type": "code",
   "execution_count": 102,
   "id": "719874e5",
   "metadata": {},
   "outputs": [
    {
     "name": "stdout",
     "output_type": "stream",
     "text": [
      "33.51930263680123\n",
      "3.852934238302987\n",
      "5.789585705108892\n"
     ]
    }
   ],
   "source": [
    "# Performance Metrics\n",
    "from sklearn.metrics import mean_squared_error\n",
    "from sklearn.metrics import mean_absolute_error\n",
    "print(mean_squared_error(y_test,elasticnet_pred))\n",
    "print(mean_absolute_error(y_test,elasticnet_pred))\n",
    "print(np.sqrt(mean_squared_error(y_test,elasticnet_pred)))"
   ]
  },
  {
   "cell_type": "code",
   "execution_count": 103,
   "id": "aa1ededa",
   "metadata": {},
   "outputs": [
    {
     "name": "stdout",
     "output_type": "stream",
     "text": [
      "0.563449579858659\n"
     ]
    }
   ],
   "source": [
    "#R square and adjusted R square\n",
    "from sklearn.metrics import r2_score\n",
    "score = r2_score(y_test,elasticnet_pred)\n",
    "print(score)"
   ]
  },
  {
   "cell_type": "code",
   "execution_count": 104,
   "id": "42400f7a",
   "metadata": {},
   "outputs": [
    {
     "data": {
      "text/plain": [
       "0.522325264917808"
      ]
     },
     "execution_count": 104,
     "metadata": {},
     "output_type": "execute_result"
    }
   ],
   "source": [
    "#Adjusted R square\n",
    "1-(1-score)*(len(y_test)-1)/(len(y_test)-x_test.shape[1]-1)"
   ]
  },
  {
   "cell_type": "code",
   "execution_count": null,
   "id": "086aa4ac",
   "metadata": {},
   "outputs": [],
   "source": []
  }
 ],
 "metadata": {
  "kernelspec": {
   "display_name": "Python 3 (ipykernel)",
   "language": "python",
   "name": "python3"
  },
  "language_info": {
   "codemirror_mode": {
    "name": "ipython",
    "version": 3
   },
   "file_extension": ".py",
   "mimetype": "text/x-python",
   "name": "python",
   "nbconvert_exporter": "python",
   "pygments_lexer": "ipython3",
   "version": "3.9.12"
  }
 },
 "nbformat": 4,
 "nbformat_minor": 5
}
